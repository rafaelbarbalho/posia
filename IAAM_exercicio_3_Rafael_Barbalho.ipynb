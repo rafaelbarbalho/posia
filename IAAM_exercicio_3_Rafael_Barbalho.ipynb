{
  "nbformat": 4,
  "nbformat_minor": 0,
  "metadata": {
    "colab": {
      "provenance": []
    },
    "kernelspec": {
      "name": "python3",
      "display_name": "Python 3"
    },
    "language_info": {
      "name": "python"
    }
  },
  "cells": [
    {
      "cell_type": "markdown",
      "source": [
        "#Árvore de decisão para atributos contínuos"
      ],
      "metadata": {
        "id": "jHpkdqLfpNEP"
      }
    },
    {
      "cell_type": "code",
      "source": [
        "from sklearn.datasets import load_breast_cancer\n",
        "X, y = load_breast_cancer(return_X_y=True)"
      ],
      "metadata": {
        "id": "0QWreFlWaErs"
      },
      "execution_count": null,
      "outputs": []
    },
    {
      "cell_type": "code",
      "source": [
        "from sklearn.base import BaseEstimator, ClassifierMixin\n",
        "from collections import Counter\n",
        "import numpy as np\n",
        "from sklearn.model_selection import cross_validate\n",
        "\n",
        "def maisFrequente(y):\n",
        "  return Counter(y.flat).most_common(1)[0][0]\n",
        "\n",
        "class ZeroR(BaseEstimator, ClassifierMixin):\n",
        "  def fit(self, X, y):\n",
        "    self.resposta = maisFrequente(y)\n",
        "    return self\n",
        "  def predict(self, X, y=None):\n",
        "    y = np.empty((X.shape[0]))\n",
        "    y[:] = self.resposta\n",
        "    return y\n",
        "\n",
        "scores = cross_validate(ZeroR(), X, y)\n",
        "scores['test_score'], np.mean(scores['test_score'])"
      ],
      "metadata": {
        "colab": {
          "base_uri": "https://localhost:8080/"
        },
        "id": "VvwYMkEtuyPp",
        "outputId": "db8c3954-fe54-4a9e-c31b-b29ca383c4ce"
      },
      "execution_count": null,
      "outputs": [
        {
          "output_type": "execute_result",
          "data": {
            "text/plain": [
              "(array([0.40350877, 0.57017544, 0.64912281, 0.74561404, 0.7699115 ]),\n",
              " 0.6276665114112715)"
            ]
          },
          "metadata": {},
          "execution_count": 24
        }
      ]
    },
    {
      "cell_type": "code",
      "source": [
        "modelo = ZeroR()\n",
        "modelo.fit(X, y)\n",
        "modelo.resposta"
      ],
      "metadata": {
        "colab": {
          "base_uri": "https://localhost:8080/"
        },
        "id": "_W3c_vH-xCd5",
        "outputId": "daa2b0b3-6917-4748-f33d-8ad4d4645344"
      },
      "execution_count": null,
      "outputs": [
        {
          "output_type": "execute_result",
          "data": {
            "text/plain": [
              "1"
            ]
          },
          "metadata": {},
          "execution_count": 25
        }
      ]
    },
    {
      "cell_type": "code",
      "source": [
        "modelo = ZeroR()\n",
        "modelo.fit(X, y)\n",
        "ypred = modelo.predict(X)\n",
        "sum(y==ypred)/len(y)"
      ],
      "metadata": {
        "colab": {
          "base_uri": "https://localhost:8080/"
        },
        "id": "J9tBeXvBx1Rl",
        "outputId": "76d750cb-bad0-438a-fe57-43936c396a65"
      },
      "execution_count": null,
      "outputs": [
        {
          "output_type": "execute_result",
          "data": {
            "text/plain": [
              "0.6274165202108963"
            ]
          },
          "metadata": {},
          "execution_count": 26
        }
      ]
    },
    {
      "cell_type": "code",
      "source": [
        "class Arvore(BaseEstimator, ClassifierMixin):\n",
        "  def fit(self, X, y):\n",
        "    self.caracteristica = 2\n",
        "    self.valor = np.mean(X[:,self.caracteristica])\n",
        "    maiores = X[:,self.caracteristica] > self.valor\n",
        "    if sum(maiores)>0 and sum(~maiores)>0:\n",
        "      self.maiores = Arvore()\n",
        "      self.maiores.fit(X[maiores,:], y[maiores])\n",
        "      self.menores = Arvore()\n",
        "      self.menores.fit(X[~maiores,:], y[~maiores])\n",
        "    else:\n",
        "      self.resposta = maisFrequente(y)\n",
        "    return self\n",
        "  def predict(self, X, y=None):\n",
        "    y = np.empty((X.shape[0]))\n",
        "    if hasattr(self, 'resposta'):\n",
        "      y[:] = self.resposta\n",
        "    else:\n",
        "      maiores = X[:,self.caracteristica] > self.valor\n",
        "      y[maiores] = self.maiores.predict(X[maiores,:])\n",
        "      y[~maiores] = self.menores.predict(X[~maiores,:])\n",
        "    return y\n",
        "\n",
        "modelo = Arvore()\n",
        "modelo.fit(X, y)\n",
        "ypred = modelo.predict(X)\n",
        "sum(y==ypred)/len(y)"
      ],
      "metadata": {
        "colab": {
          "base_uri": "https://localhost:8080/"
        },
        "id": "Su3Qz-UW-FKb",
        "outputId": "3d702841-ee9f-491d-dfb4-aaaa4364e52e"
      },
      "execution_count": null,
      "outputs": [
        {
          "output_type": "execute_result",
          "data": {
            "text/plain": [
              "0.9876977152899824"
            ]
          },
          "metadata": {},
          "execution_count": 27
        }
      ]
    },
    {
      "cell_type": "code",
      "source": [
        "scores = cross_validate(Arvore(), X, y)\n",
        "scores['test_score'], np.mean(scores['test_score'])"
      ],
      "metadata": {
        "colab": {
          "base_uri": "https://localhost:8080/"
        },
        "id": "7rBI_tK0_Pfd",
        "outputId": "dd9e9596-e4e4-4aa2-ac94-5cd6cb572a8f"
      },
      "execution_count": null,
      "outputs": [
        {
          "output_type": "execute_result",
          "data": {
            "text/plain": [
              "(array([0.77192982, 0.79824561, 0.86842105, 0.81578947, 0.82300885]),\n",
              " 0.8154789628939605)"
            ]
          },
          "metadata": {},
          "execution_count": 28
        }
      ]
    },
    {
      "cell_type": "code",
      "source": [
        "def impureza(y): #Gini\n",
        "  labels = list(set(y))\n",
        "  labels.sort()\n",
        "  probabilidades = np.zeros((len(labels),))\n",
        "  for i, k in enumerate(labels):\n",
        "    probabilidades[i] = sum(y==k)/len(y)\n",
        "  result = 1 - sum(probabilidades ** 2)\n",
        "  return result\n",
        "\n",
        "impureza(y[:])"
      ],
      "metadata": {
        "colab": {
          "base_uri": "https://localhost:8080/"
        },
        "id": "ip3ex20v1qmV",
        "outputId": "18954376-5e8e-4af6-fa67-039ff3f103bd"
      },
      "execution_count": null,
      "outputs": [
        {
          "output_type": "execute_result",
          "data": {
            "text/plain": [
              "0.4675300607546925"
            ]
          },
          "metadata": {},
          "execution_count": 29
        }
      ]
    },
    {
      "cell_type": "code",
      "source": [
        "def impurezaValor(x, y, valor):\n",
        "  maiores = x > valor\n",
        "  impurezamaiores = impureza(y[maiores])\n",
        "  proporcaomaiores = sum(maiores)/len(y)\n",
        "  impurezamenores = impureza(y[~maiores])\n",
        "  proporcaomenores = sum(~maiores)/len(y)\n",
        "  impurezaTotal = proporcaomaiores*impurezamaiores + proporcaomenores*impurezamenores\n",
        "  return impurezaTotal, impurezamenores, impurezamaiores\n",
        "\n",
        "impurezaValor(X[:,2], y, 2.5)"
      ],
      "metadata": {
        "colab": {
          "base_uri": "https://localhost:8080/"
        },
        "id": "cqV-Eg7G20Y7",
        "outputId": "70249445-6feb-4203-e5e5-51f1e791c301"
      },
      "execution_count": null,
      "outputs": [
        {
          "output_type": "execute_result",
          "data": {
            "text/plain": [
              "(0.4675300607546925, 1, 0.4675300607546925)"
            ]
          },
          "metadata": {},
          "execution_count": 30
        }
      ]
    },
    {
      "cell_type": "code",
      "source": [
        "def melhorValor(x, y):\n",
        "  result = None\n",
        "  menorImpureza = float('inf')\n",
        "  xmax = np.max(x)\n",
        "  xmin = np.min(x)\n",
        "  while True:\n",
        "    valor = (xmin+xmax)/2\n",
        "    impTotal, impMenores, impMaiores = impurezaValor(x, y, valor)\n",
        "    if impTotal < menorImpureza:\n",
        "      menorImpureza = impTotal\n",
        "      result = valor\n",
        "      if impMaiores == 0 or impMenores == 0:\n",
        "        break\n",
        "      if impMaiores < impMenores:\n",
        "        xmin = valor\n",
        "      else:\n",
        "        xmax = valor\n",
        "    else:\n",
        "      break\n",
        "  return result, menorImpureza\n",
        "\n",
        "melhorValor(X[:,2], y)"
      ],
      "metadata": {
        "colab": {
          "base_uri": "https://localhost:8080/"
        },
        "id": "Yt8Zzg5tBeB5",
        "outputId": "0709ecd0-5716-437f-eb8c-449b5fe42133"
      },
      "execution_count": null,
      "outputs": [
        {
          "output_type": "execute_result",
          "data": {
            "text/plain": [
              "(116.145, 0.30371755118489246)"
            ]
          },
          "metadata": {},
          "execution_count": 31
        }
      ]
    },
    {
      "cell_type": "code",
      "source": [
        "def melhorCaracteristica(X, y):\n",
        "  impurezas = []\n",
        "  valores = []\n",
        "  for caracteristica in range(X.shape[1]):\n",
        "    valor, imp = melhorValor(X[:,caracteristica], y)\n",
        "    impurezas.append(imp)\n",
        "    valores.append(valor)\n",
        "  # print(impurezas)\n",
        "  # print(valores)\n",
        "  impurezas = np.array(impurezas)\n",
        "  caracteristica = np.argmin(impurezas)\n",
        "  return impurezas[caracteristica], caracteristica, valores[caracteristica]\n",
        "\n",
        "melhorCaracteristica(X, y)"
      ],
      "metadata": {
        "colab": {
          "base_uri": "https://localhost:8080/"
        },
        "id": "7X8d7Zwg4IWN",
        "outputId": "a6832a83-fb29-4da1-b3d7-94d38d55dcde"
      },
      "execution_count": null,
      "outputs": [
        {
          "output_type": "execute_result",
          "data": {
            "text/plain": [
              "(0.1504971683890802, 27, 0.1455)"
            ]
          },
          "metadata": {},
          "execution_count": 32
        }
      ]
    },
    {
      "cell_type": "code",
      "source": [
        "class Arvore(BaseEstimator, ClassifierMixin):\n",
        "  def fit(self, X, y):\n",
        "    self.impureza, self.caracteristica, self.valor = melhorCaracteristica(X, y)\n",
        "    #print(f'{self.impureza}, {self.caracteristica}, {self.valor}')\n",
        "    maiores = X[:,self.caracteristica] > self.valor\n",
        "    if sum(maiores)>0 and sum(~maiores)>0:\n",
        "      self.maiores = Arvore()\n",
        "      self.maiores.fit(X[maiores,:], y[maiores])\n",
        "      self.menores = Arvore()\n",
        "      self.menores.fit(X[~maiores,:], y[~maiores])\n",
        "    else:\n",
        "      self.resposta = maisFrequente(y)\n",
        "    return self\n",
        "  def predict(self, X, y=None):\n",
        "    y = np.empty((X.shape[0]))\n",
        "    if hasattr(self, 'resposta'):\n",
        "      y[:] = self.resposta\n",
        "    else:\n",
        "      maiores = X[:,self.caracteristica] > self.valor\n",
        "      y[maiores] = self.maiores.predict(X[maiores,:])\n",
        "      y[~maiores] = self.menores.predict(X[~maiores,:])\n",
        "    return y\n",
        "\n",
        "modelo = Arvore()\n",
        "modelo.fit(X, y)\n",
        "ypred = modelo.predict(X)\n",
        "sum(y==ypred)/len(y)"
      ],
      "metadata": {
        "colab": {
          "base_uri": "https://localhost:8080/"
        },
        "id": "vBK-Msac9CyJ",
        "outputId": "1a578579-a5bd-4de7-9bac-43acef9ac9c8"
      },
      "execution_count": null,
      "outputs": [
        {
          "output_type": "execute_result",
          "data": {
            "text/plain": [
              "1.0"
            ]
          },
          "metadata": {},
          "execution_count": 33
        }
      ]
    },
    {
      "cell_type": "code",
      "source": [
        "def melhorValorNova(x, y):\n",
        "  result = None\n",
        "  menorImpureza = float('inf')\n",
        "\n",
        "  if x.shape[0] < 2:\n",
        "    return x[0], 0.0\n",
        "\n",
        "  x1 = np.sort(x)\n",
        "  for i in range(y.shape[0] - 1):\n",
        "    valor = (x1[i]+x1[i+1])/2\n",
        "    impTotal, impMenores, impMaiores = impurezaValor(x1, y, valor)\n",
        "    if impTotal < menorImpureza:\n",
        "      menorImpureza = impTotal\n",
        "      result = valor\n",
        "\n",
        "  return result, menorImpureza\n",
        "\n",
        "melhorValorNova(X[:,2], y)"
      ],
      "metadata": {
        "colab": {
          "base_uri": "https://localhost:8080/"
        },
        "id": "10whxuJvAMc1",
        "outputId": "a15125a1-184d-47a8-984c-3f5b3ba919e1"
      },
      "execution_count": null,
      "outputs": [
        {
          "output_type": "execute_result",
          "data": {
            "text/plain": [
              "(63.865, 0.4161477951424071)"
            ]
          },
          "metadata": {},
          "execution_count": 34
        }
      ]
    },
    {
      "cell_type": "code",
      "source": [
        "def melhorCaracteristicaNova(X, y):\n",
        "  impurezas = []\n",
        "  valores = []\n",
        "\n",
        "  for caracteristica in range(X.shape[1]):\n",
        "    valor, imp = melhorValorNova(X[:,caracteristica], y)\n",
        "    impurezas.append(imp)\n",
        "    valores.append(valor)\n",
        "\n",
        "  impurezas = np.array(impurezas)\n",
        "  caracteristica = np.argmin(impurezas)\n",
        "\n",
        "  return impurezas[caracteristica], caracteristica, valores[caracteristica]\n",
        "\n",
        "melhorCaracteristicaNova(X, y)"
      ],
      "metadata": {
        "colab": {
          "base_uri": "https://localhost:8080/"
        },
        "id": "kI2dE2B1AWau",
        "outputId": "c4d82023-08ab-49ff-b90b-5c03cecf2faa"
      },
      "execution_count": null,
      "outputs": [
        {
          "output_type": "execute_result",
          "data": {
            "text/plain": [
              "(0.4161477951424071, 0, 9.876)"
            ]
          },
          "metadata": {},
          "execution_count": 35
        }
      ]
    },
    {
      "cell_type": "code",
      "source": [
        "class ArvoreNova(BaseEstimator, ClassifierMixin):\n",
        "  def fit(self, X, y):\n",
        "    self.impureza, self.caracteristica, self.valor = melhorCaracteristicaNova(X, y)\n",
        "    #print(f'fit: {X.shape[0]}, {self.impureza}, {self.caracteristica}, {self.valor}')\n",
        "    maiores = X[:,self.caracteristica] > self.valor\n",
        "    if sum(maiores)>0 and sum(~maiores)>0:\n",
        "      self.maiores = ArvoreNova()\n",
        "      self.maiores.fit(X[maiores,:], y[maiores])\n",
        "      self.menores = ArvoreNova()\n",
        "      self.menores.fit(X[~maiores,:], y[~maiores])\n",
        "    else:\n",
        "      self.resposta = maisFrequente(y)\n",
        "    return self\n",
        "  def predict(self, X, y=None):\n",
        "    y = np.empty((X.shape[0]))\n",
        "    if hasattr(self, 'resposta'):\n",
        "      y[:] = self.resposta\n",
        "    else:\n",
        "      maiores = X[:,self.caracteristica] > self.valor\n",
        "      y[maiores] = self.maiores.predict(X[maiores,:])\n",
        "      y[~maiores] = self.menores.predict(X[~maiores,:])\n",
        "    return y\n",
        "\n",
        "modelo_novo = ArvoreNova()\n",
        "modelo_novo.fit(X, y)\n",
        "ypred = modelo_novo.predict(X)\n",
        "sum(y==ypred)/len(y)"
      ],
      "metadata": {
        "colab": {
          "base_uri": "https://localhost:8080/"
        },
        "id": "fkD1ROct9rLS",
        "outputId": "798c3ddc-e63d-4b74-e36e-171e96edcf77"
      },
      "execution_count": null,
      "outputs": [
        {
          "output_type": "execute_result",
          "data": {
            "text/plain": [
              "1.0"
            ]
          },
          "metadata": {},
          "execution_count": 36
        }
      ]
    },
    {
      "cell_type": "code",
      "source": [
        "scores = cross_validate(Arvore(), X, y)\n",
        "scores['test_score'], np.mean(scores['test_score'])"
      ],
      "metadata": {
        "colab": {
          "base_uri": "https://localhost:8080/"
        },
        "id": "iZVg23RL7EYV",
        "outputId": "329d40af-b60e-4aa2-9675-22c08b71ff4f"
      },
      "execution_count": null,
      "outputs": [
        {
          "output_type": "execute_result",
          "data": {
            "text/plain": [
              "(array([0.89473684, 0.92982456, 0.93859649, 0.93859649, 0.94690265]),\n",
              " 0.9297314081664337)"
            ]
          },
          "metadata": {},
          "execution_count": 37
        }
      ]
    },
    {
      "cell_type": "code",
      "source": [
        "scores = cross_validate(ArvoreNova(), X, y)\n",
        "scores['test_score'], np.mean(scores['test_score'])"
      ],
      "metadata": {
        "colab": {
          "base_uri": "https://localhost:8080/"
        },
        "id": "OPJ7Gf6G94Wq",
        "outputId": "1b746b4c-62c5-4e8f-fe1b-469acb126ea0"
      },
      "execution_count": null,
      "outputs": [
        {
          "output_type": "execute_result",
          "data": {
            "text/plain": [
              "(array([0.78070175, 0.79824561, 0.90350877, 0.85087719, 0.80530973]),\n",
              " 0.8277286135693215)"
            ]
          },
          "metadata": {},
          "execution_count": 38
        }
      ]
    },
    {
      "cell_type": "markdown",
      "source": [
        "O Score Médio da heurística original apresenta melhor desempenho"
      ],
      "metadata": {
        "id": "yoEdrMs2W09O"
      }
    },
    {
      "cell_type": "code",
      "source": [
        "import timeit\n",
        "modelo = Arvore()\n",
        "result = timeit.timeit(stmt='modelo.fit(X, y)', globals=globals(), number=10)\n",
        "print('Arvore (tempo de execução):', result)"
      ],
      "metadata": {
        "colab": {
          "base_uri": "https://localhost:8080/"
        },
        "id": "MjC79gdVLU4h",
        "outputId": "22e07eb8-c79c-458b-f49b-0b9887d27878"
      },
      "execution_count": null,
      "outputs": [
        {
          "output_type": "stream",
          "name": "stdout",
          "text": [
            "Arvore (tempo de execução): 18.01477430199975\n"
          ]
        }
      ]
    },
    {
      "cell_type": "code",
      "source": [
        "import timeit\n",
        "modelo_novo = ArvoreNova()\n",
        "result = timeit.timeit(stmt='modelo_novo.fit(X, y)', globals=globals(), number=10)\n",
        "print('ArvoreNova (tempo de execução):', result)"
      ],
      "metadata": {
        "colab": {
          "base_uri": "https://localhost:8080/"
        },
        "id": "5SdE2ekyLVVP",
        "outputId": "5f8417bc-3bb7-4696-eb0e-f4ac0f1307f7"
      },
      "execution_count": null,
      "outputs": [
        {
          "output_type": "stream",
          "name": "stdout",
          "text": [
            "ArvoreNova (tempo de execução): 473.18973948800067\n"
          ]
        }
      ]
    },
    {
      "cell_type": "markdown",
      "source": [
        "A diferença de tempo foi significativa entre as 2 heurísticas, sendo a original muita mais rápida\n"
      ],
      "metadata": {
        "id": "zM621gUjcCRl"
      }
    },
    {
      "cell_type": "code",
      "source": [],
      "metadata": {
        "id": "A21Ps1wDUh0a"
      },
      "execution_count": null,
      "outputs": []
    }
  ]
}